{
 "cells": [
  {
   "cell_type": "code",
   "execution_count": 16,
   "id": "80ca204a-57df-45aa-ac6e-697c677250de",
   "metadata": {},
   "outputs": [],
   "source": [
    "import tensorflow as tf\n",
    "from tensorflow.keras import layers\n",
    "from tensorflow.keras.preprocessing.image import ImageDataGenerator\n",
    "import cv2\n",
    "import os\n",
    "import matplotlib.pyplot as plt\n",
    "import numpy as np"
   ]
  },
  {
   "cell_type": "code",
   "execution_count": 17,
   "id": "9b722933-a702-4ed0-beff-2787c834f4c3",
   "metadata": {},
   "outputs": [],
   "source": [
    "Datadirectory = \"C:\\\\Users\\\\Moham\\\\Downloads\\\\archive\\\\train\"  # training dataset\n",
    "Classes = [\"0\", \"1\", \"2\", \"3\", \"4\", \"5\", \"6\"]  # list of classes\n",
    "img_size = 128  # Reduced image size\n",
    "batch_size = 32  # Adjust the batch size based on your memory constraints\n",
    "training_data = []"
   ]
  },
  {
   "cell_type": "code",
   "execution_count": 18,
   "id": "ab6f96a5-9305-4b9c-a22e-29334d9f9ccf",
   "metadata": {},
   "outputs": [
    {
     "name": "stdout",
     "output_type": "stream",
     "text": [
      "Found 14863 images belonging to 7 classes.\n"
     ]
    }
   ],
   "source": [
    "# Use a data generator for training\n",
    "train_datagen = ImageDataGenerator(\n",
    "    rescale=1./255,\n",
    "    rotation_range=20,\n",
    "    width_shift_range=0.2,\n",
    "    height_shift_range=0.2,\n",
    "    shear_range=0.2,\n",
    "    zoom_range=0.2,\n",
    "    horizontal_flip=True,\n",
    "    fill_mode='nearest'\n",
    ")\n",
    "\n",
    "train_generator = train_datagen.flow_from_directory(\n",
    "    Datadirectory,\n",
    "    target_size=(img_size, img_size),\n",
    "    batch_size=batch_size,\n",
    "    class_mode='sparse',  # for sparse categorical crossentropy\n",
    "    classes=Classes\n",
    ")\n"
   ]
  },
  {
   "cell_type": "code",
   "execution_count": 19,
   "id": "29c9f9de-9edf-4223-9768-1669644eea1b",
   "metadata": {},
   "outputs": [
    {
     "name": "stdout",
     "output_type": "stream",
     "text": [
      "Downloading data from https://storage.googleapis.com/tensorflow/keras-applications/mobilenet_v2/mobilenet_v2_weights_tf_dim_ordering_tf_kernels_1.0_128_no_top.h5\n",
      "9406464/9406464 [==============================] - 9s 1us/step\n"
     ]
    }
   ],
   "source": [
    "# Pretrained MobileNetV2 model\n",
    "model = tf.keras.applications.MobileNetV2(weights='imagenet', include_top=False, input_shape=(img_size, img_size, 3))"
   ]
  },
  {
   "cell_type": "code",
   "execution_count": 20,
   "id": "0feb3d71-f4f1-4c1f-bb99-6491b105b996",
   "metadata": {},
   "outputs": [],
   "source": [
    "# Freeze the layers of the pretrained model\n",
    "for layer in model.layers:\n",
    "    layer.trainable = False"
   ]
  },
  {
   "cell_type": "code",
   "execution_count": 21,
   "id": "a28a52d4-e54e-4fb0-a237-76393a2625fe",
   "metadata": {},
   "outputs": [],
   "source": [
    "# Build the new model\n",
    "base_output = model.output\n",
    "flatten = layers.Flatten()(base_output)\n",
    "final_output = layers.Dense(128)(flatten)\n",
    "final_output = layers.Activation('relu')(final_output)\n",
    "final_output = layers.Dropout(0.5)(final_output)  # Adding dropout\n",
    "final_output = layers.Dense(64)(final_output)\n",
    "final_output = layers.Activation('relu')(final_output)\n",
    "final_output = layers.Dense(len(Classes), activation='softmax')(final_output)\n",
    "\n",
    "new_model = tf.keras.models.Model(inputs=model.input, outputs=final_output)\n",
    "\n"
   ]
  },
  {
   "cell_type": "code",
   "execution_count": 22,
   "id": "805f7fb8-97a4-4ef8-a7c0-3f717be9c3c2",
   "metadata": {},
   "outputs": [],
   "source": [
    "new_model.compile(loss=\"sparse_categorical_crossentropy\", optimizer=\"adam\", metrics=[\"accuracy\"])"
   ]
  },
  {
   "cell_type": "code",
   "execution_count": null,
   "id": "ee0dc180-9788-45d8-a225-85f6eaf1d3aa",
   "metadata": {},
   "outputs": [
    {
     "name": "stdout",
     "output_type": "stream",
     "text": [
      "Epoch 1/20\n",
      "465/465 [==============================] - 295s 628ms/step - loss: 1.8927 - accuracy: 0.2623\n",
      "Epoch 2/20\n",
      "465/465 [==============================] - 281s 605ms/step - loss: 1.7933 - accuracy: 0.2674\n",
      "Epoch 3/20\n",
      "465/465 [==============================] - 288s 618ms/step - loss: 1.7721 - accuracy: 0.2701\n",
      "Epoch 4/20\n",
      "465/465 [==============================] - 282s 607ms/step - loss: 1.7528 - accuracy: 0.2833\n",
      "Epoch 5/20\n",
      "465/465 [==============================] - 296s 635ms/step - loss: 1.7529 - accuracy: 0.2867\n",
      "Epoch 6/20\n",
      "319/465 [===================>..........] - ETA: 1:34 - loss: 1.7400 - accuracy: 0.2839"
     ]
    }
   ],
   "source": [
    "# Train the model using the generator\n",
    "new_model.fit(train_generator, epochs=20)"
   ]
  },
  {
   "cell_type": "code",
   "execution_count": null,
   "id": "35cb1fce-4706-4bca-9264-5fecdc57e9ba",
   "metadata": {},
   "outputs": [],
   "source": [
    "# Save the model\n",
    "new_model.save(\"C:\\\\Users\\\\Moham\\\\OneDrive\\\\Desktop\\\\AI\\\\emotion_classifier.h5\")"
   ]
  },
  {
   "cell_type": "code",
   "execution_count": null,
   "id": "ad65c028-0f33-413f-a189-c3bba5f9594d",
   "metadata": {},
   "outputs": [],
   "source": [
    "# Testing the model\n",
    "testing_datagen = ImageDataGenerator(rescale=1./255)\n",
    "\n",
    "test_generator = testing_datagen.flow_from_directory(\n",
    "    \"C:\\\\Users\\\\Moham\\\\Downloads\\\\archive\\\\test\",\n",
    "    target_size=(img_size, img_size),\n",
    "    batch_size=batch_size,\n",
    "    class_mode='sparse',  # for sparse categorical crossentropy\n",
    "    classes=Classes\n",
    ")"
   ]
  },
  {
   "cell_type": "code",
   "execution_count": null,
   "id": "0c483458-efef-4888-a1e2-b9a542099818",
   "metadata": {},
   "outputs": [],
   "source": [
    "# Evaluate the model using the generator\n",
    "new_model.evaluate(test_generator)"
   ]
  }
 ],
 "metadata": {
  "kernelspec": {
   "display_name": "Python 3 (ipykernel)",
   "language": "python",
   "name": "python3"
  },
  "language_info": {
   "codemirror_mode": {
    "name": "ipython",
    "version": 3
   },
   "file_extension": ".py",
   "mimetype": "text/x-python",
   "name": "python",
   "nbconvert_exporter": "python",
   "pygments_lexer": "ipython3",
   "version": "3.11.4"
  }
 },
 "nbformat": 4,
 "nbformat_minor": 5
}
